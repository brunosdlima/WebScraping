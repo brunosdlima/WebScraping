{
 "cells": [
  {
   "cell_type": "markdown",
   "id": "4a316ed9",
   "metadata": {},
   "source": [
    "Pra instalar o Jupyter é so seguir a descricao do video (la ele ensina o basicao dessa IDE): https://www.youtube.com/watch?v=_eK0z5QbpKA&t=926s"
   ]
  },
  {
   "cell_type": "markdown",
   "id": "ac631d89",
   "metadata": {},
   "source": [
    "Before running the code it is important to download the chrome webdriver: https://chromedriver.chromium.org/downloads\n",
    "Open the location in which Python is installed, for that open Anaconda prompt. In my case \"C:\\ProgramData\\Anaconda3\""
   ]
  },
  {
   "cell_type": "code",
   "execution_count": 3,
   "id": "ffada970",
   "metadata": {
    "scrolled": true
   },
   "outputs": [],
   "source": [
    "#Packages to be installed (run only once)\n",
    "\n",
    "#This package is used to automate tasks in chrome\n",
    "!pip install selenium\n",
    "#This package is used to automated keyboard and mouse functions\n",
    "!pip install pyautogui\n",
    "#This package is used to copy and paste special characters\n",
    "!pip install pyperclip\n",
    "#This package is used to plot the data\n",
    "!pip install plotly"
   ]
  },
  {
   "cell_type": "markdown",
   "id": "7f1ab8dd",
   "metadata": {},
   "source": [
    "The next part will import the valeu of the euro in relation to reais from Google"
   ]
  },
  {
   "cell_type": "code",
   "execution_count": 10,
   "id": "c1c0370f",
   "metadata": {},
   "outputs": [],
   "source": [
    "#Import Selenium package (https://selenium-python.readthedocs.io/)\n",
    "from selenium import webdriver\n",
    "from selenium.webdriver.common.keys import Keys\n",
    "\n",
    "#Import pyautogui to control the keyboard and the mouse\n",
    "import pyautogui\n",
    "\n",
    "#Import pyperclip to copy and paste special characters\n",
    "import pyperclip\n",
    "\n",
    "#Import time to control timing\n",
    "import time\n",
    "\n",
    "#Make the code waits x seconds between each comand line\n",
    "pyautogui.PAUSE = 0.5\n",
    "\n",
    "#Open a new window in Chrome\n",
    "new_tab = webdriver.Chrome()\n",
    "#Open an specific website\n",
    "new_tab.get(\"https://www.google.com.br/\")\n",
    "\n",
    "#Access an specific location of the site and type a message\n",
    "#To find the location of the website you want, right click on it, click on \"investigate\", type \"ctrl + shift + c\", click on the part you want (it will be highlighted in blue on the right side), right click on the highlighted blue region -> copy -> copy xpath\n",
    "new_tab.find_element_by_xpath('/html/body/div[1]/div[3]/form/div[1]/div[1]/div[1]/div/div[2]/input').send_keys('1 Euro in Reais')\n",
    "#Access the same location and press enter\n",
    "new_tab.find_element_by_xpath('/html/body/div[1]/div[3]/form/div[1]/div[1]/div[1]/div/div[2]/input').send_keys(Keys.ENTER)\n",
    "\n",
    "#Getting the wanted result\n",
    "#To find the attribute you want just inspect the page like before but instead of copying the xpath read the highlighted blue region and check the data you want\n",
    "euro_in_reais_str = new_tab.find_element_by_xpath('//*[@id=\"knowledge-currency__updatable-data-column\"]/div[1]/div[2]/span[1]').get_attribute('data-value')\n",
    "euro_in_reais= float(euro_in_reais_str)"
   ]
  },
  {
   "cell_type": "markdown",
   "id": "7d413c4a",
   "metadata": {},
   "source": [
    "This part of the code import an excel table and clean the data"
   ]
  },
  {
   "cell_type": "code",
   "execution_count": 5,
   "id": "bdc3d220",
   "metadata": {
    "scrolled": true
   },
   "outputs": [],
   "source": [
    "#Import the math lybrary\n",
    "import pandas as pd\n",
    "\n",
    "#Read the data inside the table (press tab after '.' to check all the methods)\n",
    "new_table = pd.read_excel(\"Sales.xlsx\")\n",
    "\n",
    "#To see the table content\n",
    "display(new_table)\n",
    "\n",
    "#Prints the summarized information of the table\n",
    "print(new_table.info())\n",
    "\n",
    "#Deletes an entire column (axis=1) with the title (\"Unnamed: 0\")\n",
    "new_table = new_table.drop(\"Unnamed: 0\", axis=1)\n",
    "\n",
    "#The values in \"TotalGasto\" were read as string values, \n",
    "#to correct that they were changed using \".to_numeric\", \n",
    "#the parameter \"errors=\"coerce\"\" forces the numbers that cant be \n",
    "#transformed in numbers to get Nan\n",
    "new_table[r\"Total expends (R$)\"] = pd.to_numeric(new_table[r\"Total expends (R$)\"], errors=\"coerce\")\n",
    "\n",
    "#To automatic delete columns that are empty the command \".dropna\" is used\n",
    "#how is a parameters that chooses to delete columns (axis=1) \n",
    "#that are completely empty (how=\"all\")\n",
    "new_table = new_table.dropna(how=\"all\", axis=1)\n",
    "\n",
    "#To automatic delete columns that are empty the command \".dropna\" is used\n",
    "#how is a parameters that chooses to delete lines (axis=0) \n",
    "#that have at least one parameter which is empty (how=\"any\")\n",
    "new_table = new_table.dropna(how=\"any\", axis=0)\n",
    "\n",
    "#The command \".value_counts()\" counts each value inside the chosen column (\"Churn\")\n",
    "display(new_table[\"Childs\"].value_counts())\n",
    "\n",
    "#The command \".value_counts()\" counts each value inside the chosen column (\"Churn\")\n",
    "#\"(normalize=True)\" print the values in percentage\n",
    "#\".map(\"{:.1%}\".format)\" formats the code as percentage with one decimal place\n",
    "display(new_table[\"Childs\"].value_counts(normalize=True).map(\"{:.1%}\".format))\n",
    "\n",
    "#Update the values of the total expenses\n",
    "new_table[\"Total expends (e)\"] = new_table[\"Total expends (R$)\"] / euro_in_reais\n",
    "\n",
    "#To see the table content after treatment and updated values for the total expenses in euros\n",
    "display(new_table)\n",
    "\n",
    "#Save new_table as csv\n",
    "new_table.to_csv(\"Updated_Sales.csv\")\n",
    "\n",
    "#Sum the total expenses in euros and reais\n",
    "total_reais_expenses =  new_table[\"Total expends (R$)\"].sum()\n",
    "print(f'The total amount expended in reais was {total_reais_expenses:.2f}')\n",
    "total_euros_expenses =  new_table[\"Total expends (e)\"].sum()\n",
    "print(f'The total amount expended in reais was {total_euros_expenses:.2f}')\n",
    "\n"
   ]
  },
  {
   "cell_type": "markdown",
   "id": "b44ae901",
   "metadata": {},
   "source": [
    "This part of the code generates some graph to be exported to the email"
   ]
  },
  {
   "cell_type": "code",
   "execution_count": 7,
   "id": "904f45d5",
   "metadata": {},
   "outputs": [],
   "source": [
    "#Import package to generate the plots\n",
    "import plotly.express as px\n",
    "\n",
    "#Iterates through all the columns \".columns\" in the table \"new_table\"\n",
    "for column in new_table.columns:\n",
    "    # Creates graph using \"new_table\", values fo x axis \"x=column\", separating by colors of \"Churn\"\n",
    "    # Examples of types of graphs are \"histogram\", and \"barchart\", press tab after \".\" to check the options\n",
    "    graph = px.histogram(new_table, x=column, color=\"Gender\")\n",
    "    # Displays the graph\n",
    "    graph.show()"
   ]
  },
  {
   "cell_type": "markdown",
   "id": "dc985f13",
   "metadata": {},
   "source": [
    "The last part will summarize the tasks and send via email"
   ]
  },
  {
   "cell_type": "code",
   "execution_count": 12,
   "id": "327d7ee3",
   "metadata": {},
   "outputs": [],
   "source": [
    "#Import Selenium package (https://selenium-python.readthedocs.io/)\n",
    "from selenium import webdriver\n",
    "from selenium.webdriver.common.keys import Keys\n",
    "\n",
    "#Import pyautogui to control the keyboard and the mouse\n",
    "#To find the actual mouse position type the command 'pyautogui.position()'\n",
    "import pyautogui\n",
    "\n",
    "#Import pyperclip to copy and paste special characters\n",
    "import pyperclip\n",
    "\n",
    "#Import time to control timing\n",
    "import time\n",
    "\n",
    "#Make the code waits x seconds between each comand line\n",
    "pyautogui.PAUSE = 0.5\n",
    "\n",
    "#Open email to send information (in this case hotmail)\n",
    "new_tab.get(\"https://outlook.live.com/mail/0/\")\n",
    "\n",
    "#Waits you to sign in in the email\n",
    "print('After the log in press enter to continue')\n",
    "x = input()\n",
    "\n",
    "#Selecting the write email button\n",
    "#to copy and past the pyperclip package will be used to avoid errors with special characters\n",
    "xpath = '//*[@id=\"id__6\"]'\n",
    "pyperclip.copy(xpath)\n",
    "new_tab.find_element_by_xpath(pyperclip.paste()).click()\n",
    "\n",
    "#The next commands uses pyautogui to control the keyboard to send the email\n",
    "#After the login you need to make sure that alt + tab goes to the email window\n",
    "pyautogui.hotkey('alt','tab')\n",
    "\n",
    "#use time to wait untill the proccess ends\n",
    "time.sleep(3)\n",
    "#typing the name of the recipient and choosing it (the waiting time is the proccess to save the recipient)\n",
    "pyautogui.write('brunosilvadelima@hotmail.com')\n",
    "pyautogui.press('tab')\n",
    "time.sleep(2)\n",
    "\n",
    "#Change to the subject scope and wrting the subject\n",
    "pyautogui.press('tab')\n",
    "pyautogui.write('Value of euro in reais.')\n",
    "time.sleep(2)\n",
    "\n",
    "#Changing to text scope and typing the value of the euro\n",
    "pyautogui.press('tab')\n",
    "email_text = f\"\"\"\n",
    "Dear ******Recipient********\n",
    "\n",
    "Each euro is worth {euro_in_reais:,.2f} reais today.\n",
    "The total expenses for the day in reais were R$ {total_reais_expenses:,.2f} which corresponds to {total_euros_expenses:,.2f} euros.\n",
    "\n",
    "Kind Regards,\n",
    "\n",
    "********Sender*********\n",
    "\n",
    "\"\"\"\n",
    "pyperclip.copy(email_text)\n",
    "pyautogui.write(pyperclip.paste())\n",
    "time.sleep(3)\n",
    "\n",
    "#Finding the right place to send the email\n",
    "#pyautogui.hotkey('ctrl','enter') also works to send the e-mail\n",
    "pyautogui.press('tab')\n",
    "pyautogui.press('tab')\n",
    "pyautogui.press('tab')\n",
    "pyautogui.press('enter')\n",
    "\n",
    "#close the window\n",
    "#new_tab.quit()"
   ]
  },
  {
   "cell_type": "code",
   "execution_count": null,
   "id": "93b19a98",
   "metadata": {},
   "outputs": [],
   "source": []
  }
 ],
 "metadata": {
  "kernelspec": {
   "display_name": "Python 3 (ipykernel)",
   "language": "python",
   "name": "python3"
  },
  "language_info": {
   "codemirror_mode": {
    "name": "ipython",
    "version": 3
   },
   "file_extension": ".py",
   "mimetype": "text/x-python",
   "name": "python",
   "nbconvert_exporter": "python",
   "pygments_lexer": "ipython3",
   "version": "3.9.7"
  }
 },
 "nbformat": 4,
 "nbformat_minor": 5
}
