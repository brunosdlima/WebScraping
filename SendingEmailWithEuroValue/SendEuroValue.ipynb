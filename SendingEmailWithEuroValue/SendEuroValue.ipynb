{
 "cells": [
  {
   "cell_type": "markdown",
   "id": "4a316ed9",
   "metadata": {},
   "source": [
    "Pra instalar o Jupyter é so seguir a descricao do video (la ele ensina o basicao dessa IDE): https://www.youtube.com/watch?v=_eK0z5QbpKA&t=926s"
   ]
  },
  {
   "cell_type": "code",
   "execution_count": 41,
   "id": "0c2a982c",
   "metadata": {},
   "outputs": [
    {
     "name": "stdout",
     "output_type": "stream",
     "text": [
      "Requirement already satisfied: selenium in c:\\programdata\\anaconda3\\lib\\site-packages (4.1.3)\n",
      "Requirement already satisfied: urllib3[secure,socks]~=1.26 in c:\\programdata\\anaconda3\\lib\\site-packages (from selenium) (1.26.7)\n",
      "Requirement already satisfied: trio~=0.17 in c:\\programdata\\anaconda3\\lib\\site-packages (from selenium) (0.20.0)\n",
      "Requirement already satisfied: trio-websocket~=0.9 in c:\\programdata\\anaconda3\\lib\\site-packages (from selenium) (0.9.2)\n",
      "Requirement already satisfied: sortedcontainers in c:\\programdata\\anaconda3\\lib\\site-packages (from trio~=0.17->selenium) (2.4.0)\n",
      "Requirement already satisfied: cffi>=1.14 in c:\\programdata\\anaconda3\\lib\\site-packages (from trio~=0.17->selenium) (1.14.6)\n",
      "Requirement already satisfied: attrs>=19.2.0 in c:\\programdata\\anaconda3\\lib\\site-packages (from trio~=0.17->selenium) (21.2.0)\n",
      "Requirement already satisfied: outcome in c:\\programdata\\anaconda3\\lib\\site-packages (from trio~=0.17->selenium) (1.1.0)\n",
      "Requirement already satisfied: idna in c:\\programdata\\anaconda3\\lib\\site-packages (from trio~=0.17->selenium) (3.2)\n",
      "Requirement already satisfied: async-generator>=1.9 in c:\\programdata\\anaconda3\\lib\\site-packages (from trio~=0.17->selenium) (1.10)\n",
      "Requirement already satisfied: sniffio in c:\\programdata\\anaconda3\\lib\\site-packages (from trio~=0.17->selenium) (1.2.0)\n",
      "Requirement already satisfied: pycparser in c:\\programdata\\anaconda3\\lib\\site-packages (from cffi>=1.14->trio~=0.17->selenium) (2.20)\n",
      "Requirement already satisfied: wsproto>=0.14 in c:\\programdata\\anaconda3\\lib\\site-packages (from trio-websocket~=0.9->selenium) (1.1.0)\n",
      "Requirement already satisfied: pyOpenSSL>=0.14 in c:\\programdata\\anaconda3\\lib\\site-packages (from urllib3[secure,socks]~=1.26->selenium) (21.0.0)\n",
      "Requirement already satisfied: cryptography>=1.3.4 in c:\\programdata\\anaconda3\\lib\\site-packages (from urllib3[secure,socks]~=1.26->selenium) (3.4.8)\n",
      "Requirement already satisfied: certifi in c:\\programdata\\anaconda3\\lib\\site-packages (from urllib3[secure,socks]~=1.26->selenium) (2021.10.8)\n",
      "Requirement already satisfied: PySocks!=1.5.7,<2.0,>=1.5.6 in c:\\programdata\\anaconda3\\lib\\site-packages (from urllib3[secure,socks]~=1.26->selenium) (1.7.1)\n",
      "Requirement already satisfied: six>=1.5.2 in c:\\programdata\\anaconda3\\lib\\site-packages (from pyOpenSSL>=0.14->urllib3[secure,socks]~=1.26->selenium) (1.16.0)\n",
      "Requirement already satisfied: h11<1,>=0.9.0 in c:\\programdata\\anaconda3\\lib\\site-packages (from wsproto>=0.14->trio-websocket~=0.9->selenium) (0.13.0)\n",
      "Collecting pyautogui\n",
      "  Downloading PyAutoGUI-0.9.53.tar.gz (59 kB)\n",
      "Collecting pymsgbox\n",
      "  Downloading PyMsgBox-1.0.9.tar.gz (18 kB)\n",
      "  Installing build dependencies: started\n",
      "  Installing build dependencies: finished with status 'done'\n",
      "  Getting requirements to build wheel: started\n",
      "  Getting requirements to build wheel: finished with status 'done'\n",
      "    Preparing wheel metadata: started\n",
      "    Preparing wheel metadata: finished with status 'done'\n",
      "Collecting PyTweening>=1.0.1\n",
      "  Downloading pytweening-1.0.4.tar.gz (14 kB)\n",
      "Collecting pyscreeze>=0.1.21\n",
      "  Downloading PyScreeze-0.1.28.tar.gz (25 kB)\n",
      "  Installing build dependencies: started\n",
      "  Installing build dependencies: finished with status 'done'\n",
      "  Getting requirements to build wheel: started\n",
      "  Getting requirements to build wheel: finished with status 'done'\n",
      "    Preparing wheel metadata: started\n",
      "    Preparing wheel metadata: finished with status 'done'\n",
      "Collecting pygetwindow>=0.0.5\n",
      "  Downloading PyGetWindow-0.0.9.tar.gz (9.7 kB)\n",
      "Collecting mouseinfo\n",
      "  Downloading MouseInfo-0.1.3.tar.gz (10 kB)\n",
      "Collecting pyrect\n",
      "  Downloading PyRect-0.1.4.tar.gz (15 kB)\n",
      "Requirement already satisfied: pyperclip in c:\\programdata\\anaconda3\\lib\\site-packages (from mouseinfo->pyautogui) (1.8.2)\n",
      "Building wheels for collected packages: pyautogui, pygetwindow, pyscreeze, PyTweening, mouseinfo, pymsgbox, pyrect\n",
      "  Building wheel for pyautogui (setup.py): started\n",
      "  Building wheel for pyautogui (setup.py): finished with status 'done'\n",
      "  Created wheel for pyautogui: filename=PyAutoGUI-0.9.53-py3-none-any.whl size=36613 sha256=c668383058469b1a6b8f8b25e374d6012e9626369b599ce2fb646a9335ce15d4\n",
      "  Stored in directory: c:\\users\\bruno silva de lima\\appdata\\local\\pip\\cache\\wheels\\d8\\97\\e4\\d2edca92a87d3b5fbfb527264750a17b4ba297b9a7cab6e67f\n",
      "  Building wheel for pygetwindow (setup.py): started\n",
      "  Building wheel for pygetwindow (setup.py): finished with status 'done'\n",
      "  Created wheel for pygetwindow: filename=PyGetWindow-0.0.9-py3-none-any.whl size=11080 sha256=2745617bf7c26bdb19c7b8b1c04ed97a58493d495a6480b0bb6d36a85b40e704\n",
      "  Stored in directory: c:\\users\\bruno silva de lima\\appdata\\local\\pip\\cache\\wheels\\44\\ab\\20\\423c3a444793767e4e41f8377bc902f77bee212e68dcce85a5\n",
      "  Building wheel for pyscreeze (PEP 517): started\n",
      "  Building wheel for pyscreeze (PEP 517): finished with status 'done'\n",
      "  Created wheel for pyscreeze: filename=PyScreeze-0.1.28-py3-none-any.whl size=13021 sha256=008a1bbb9e2d4e38f81be21808768db268e76d3667889e145911311002cd631a\n",
      "  Stored in directory: c:\\users\\bruno silva de lima\\appdata\\local\\pip\\cache\\wheels\\a2\\5b\\86\\99f1d8fac5d92de0ccb3f0d4ad15e3f4278baf75a9b0f20b93\n",
      "  Building wheel for PyTweening (setup.py): started\n",
      "  Building wheel for PyTweening (setup.py): finished with status 'done'\n",
      "  Created wheel for PyTweening: filename=pytweening-1.0.4-py3-none-any.whl size=5854 sha256=a8cdab9ac825c545ab475cb24bec3f81a4faccad79e5faea32ba055e58906343\n",
      "  Stored in directory: c:\\users\\bruno silva de lima\\appdata\\local\\pip\\cache\\wheels\\a4\\5d\\d2\\ba4c8f82163233ffaadcf383c1e34d7d92635d357d13e7b78d\n",
      "  Building wheel for mouseinfo (setup.py): started\n",
      "  Building wheel for mouseinfo (setup.py): finished with status 'done'\n",
      "  Created wheel for mouseinfo: filename=MouseInfo-0.1.3-py3-none-any.whl size=10906 sha256=f20231ddaa95310132e9161d9149c238de4d2b8e2827a9d74689363544c92e91\n",
      "  Stored in directory: c:\\users\\bruno silva de lima\\appdata\\local\\pip\\cache\\wheels\\61\\73\\b9\\6fb1131ab36e650206e3aa0ad7a68907b41b32ac2d4f75f543\n",
      "  Building wheel for pymsgbox (PEP 517): started\n",
      "  Building wheel for pymsgbox (PEP 517): finished with status 'done'\n",
      "  Created wheel for pymsgbox: filename=PyMsgBox-1.0.9-py3-none-any.whl size=7420 sha256=87bea1f883026447cd3c24c07bbd6c42f49b8eb36e7f7e7b790f484aa52343d0\n",
      "  Stored in directory: c:\\users\\bruno silva de lima\\appdata\\local\\pip\\cache\\wheels\\7f\\13\\8c\\584c519464297d9637f9cd29fd1dcdf55e2a2cab225c76a2db\n",
      "  Building wheel for pyrect (setup.py): started\n",
      "  Building wheel for pyrect (setup.py): finished with status 'done'\n",
      "  Created wheel for pyrect: filename=PyRect-0.1.4-py2.py3-none-any.whl size=9547 sha256=8ee52617ba145189934aefdf2b1301a9ef4f4705f1aeb4b090b83601006eb505\n",
      "  Stored in directory: c:\\users\\bruno silva de lima\\appdata\\local\\pip\\cache\\wheels\\0e\\d4\\c5\\b7f7be24ac0a168fd03d08afcc7c8928ef05cc1e319d1c136b\n",
      "Successfully built pyautogui pygetwindow pyscreeze PyTweening mouseinfo pymsgbox pyrect\n",
      "Installing collected packages: pyrect, PyTweening, pyscreeze, pymsgbox, pygetwindow, mouseinfo, pyautogui\n",
      "Successfully installed PyTweening-1.0.4 mouseinfo-0.1.3 pyautogui-0.9.53 pygetwindow-0.0.9 pymsgbox-1.0.9 pyrect-0.1.4 pyscreeze-0.1.28\n",
      "Requirement already satisfied: pyperclip in c:\\programdata\\anaconda3\\lib\\site-packages (1.8.2)\n"
     ]
    }
   ],
   "source": [
    "#Packages to be installed (run only once)\n",
    "\n",
    "#This package is used to automate tasks in chrome\n",
    "!pip install selenium\n",
    "#This package is used to automated keyboard and mouse functions\n",
    "!pip install pyautogui\n",
    "#This package is used to copy and paste special characters\n",
    "!pip install pyperclip"
   ]
  },
  {
   "cell_type": "markdown",
   "id": "ac631d89",
   "metadata": {},
   "source": [
    "Before running the code it is important to download the chrome webdriver: https://chromedriver.chromium.org/downloads\n",
    "Open the location in which Python is installed, for that open Anaconda prompt. In my case \"C:\\ProgramData\\Anaconda3\""
   ]
  },
  {
   "cell_type": "code",
   "execution_count": 56,
   "id": "bdc3d220",
   "metadata": {
    "scrolled": false
   },
   "outputs": [
    {
     "name": "stderr",
     "output_type": "stream",
     "text": [
      "C:\\Users\\BRUNOS~1\\AppData\\Local\\Temp/ipykernel_13328/1125289809.py:24: DeprecationWarning: find_element_by_xpath is deprecated. Please use find_element(by=By.XPATH, value=xpath) instead\n",
      "  new_tab.find_element_by_xpath('/html/body/div[1]/div[3]/form/div[1]/div[1]/div[1]/div/div[2]/input').send_keys('1 Euro in Reais')\n",
      "C:\\Users\\BRUNOS~1\\AppData\\Local\\Temp/ipykernel_13328/1125289809.py:26: DeprecationWarning: find_element_by_xpath is deprecated. Please use find_element(by=By.XPATH, value=xpath) instead\n",
      "  new_tab.find_element_by_xpath('/html/body/div[1]/div[3]/form/div[1]/div[1]/div[1]/div/div[2]/input').send_keys(Keys.ENTER)\n",
      "C:\\Users\\BRUNOS~1\\AppData\\Local\\Temp/ipykernel_13328/1125289809.py:30: DeprecationWarning: find_element_by_xpath is deprecated. Please use find_element(by=By.XPATH, value=xpath) instead\n",
      "  euro_in_reais_str = new_tab.find_element_by_xpath('//*[@id=\"knowledge-currency__updatable-data-column\"]/div[1]/div[2]/span[1]').get_attribute('data-value')\n"
     ]
    },
    {
     "name": "stdout",
     "output_type": "stream",
     "text": [
      "After the log in press enter to continue\n",
      "\n"
     ]
    },
    {
     "name": "stderr",
     "output_type": "stream",
     "text": [
      "C:\\Users\\BRUNOS~1\\AppData\\Local\\Temp/ipykernel_13328/1125289809.py:44: DeprecationWarning: find_element_by_xpath is deprecated. Please use find_element(by=By.XPATH, value=xpath) instead\n",
      "  new_tab.find_element_by_xpath(pyperclip.paste()).click()\n"
     ]
    }
   ],
   "source": [
    "#Import Selenium package (https://selenium-python.readthedocs.io/)\n",
    "from selenium import webdriver\n",
    "from selenium.webdriver.common.keys import Keys\n",
    "\n",
    "#Import pyautogui to control the keyboard and the mouse\n",
    "import pyautogui\n",
    "\n",
    "#Import pyperclip to copy and paste special characters\n",
    "import pyperclip\n",
    "\n",
    "#Import time to control timing\n",
    "import time\n",
    "\n",
    "#Make the code waits x seconds between each comand line\n",
    "pyautogui.PAUSE = 0.5\n",
    "\n",
    "#Open a new window in Chrome\n",
    "new_tab = webdriver.Chrome()\n",
    "#Open an specific website\n",
    "new_tab.get(\"https://www.google.com.br/\")\n",
    "\n",
    "#Access an specific location of the site and type a message\n",
    "#To find the location of the website you want, right click on it, click on \"investigate\", type \"ctrl + shift + c\", click on the part you want (it will be highlighted in blue on the right side), right click on the highlighted blue region -> copy -> copy xpath\n",
    "new_tab.find_element_by_xpath('/html/body/div[1]/div[3]/form/div[1]/div[1]/div[1]/div/div[2]/input').send_keys('1 Euro in Reais')\n",
    "#Access the same location and press enter\n",
    "new_tab.find_element_by_xpath('/html/body/div[1]/div[3]/form/div[1]/div[1]/div[1]/div/div[2]/input').send_keys(Keys.ENTER)\n",
    "\n",
    "#Getting the wanted result\n",
    "#To find the attribute you want just inspect the page like before but instead of copying the xpath read the highlighted blue region and check the data you want\n",
    "euro_in_reais_str = new_tab.find_element_by_xpath('//*[@id=\"knowledge-currency__updatable-data-column\"]/div[1]/div[2]/span[1]').get_attribute('data-value')\n",
    "euro_in_reais= float(euro_in_reais_str)\n",
    "\n",
    "#Open email to send information (in this case hotmail)\n",
    "new_tab.get(\"https://outlook.live.com/mail/0/\")\n",
    "\n",
    "#Waits you to sign in in the email\n",
    "print('After the log in press enter to continue')\n",
    "x = input()\n",
    "\n",
    "#Selecting the write email button\n",
    "#to copy and past the pyperclip package will be used to avoid errors with special characters\n",
    "xpath = '//*[@id=\"id__6\"]'\n",
    "pyperclip.copy(xpath)\n",
    "new_tab.find_element_by_xpath(pyperclip.paste()).click()\n",
    "\n",
    "#The next commands uses pyautogui to control the keyboard to send the email\n",
    "#After the login you need to make sure that alt + tab goes to the email window\n",
    "pyautogui.hotkey('alt','tab')\n",
    "\n",
    "#use time to wait untill the proccess ends\n",
    "time.sleep(3)\n",
    "#typing the name of the recipient and choosing it (the waiting time is the proccess to save the recipient)\n",
    "pyautogui.write('*************type the email recipient here ****************')\n",
    "pyautogui.press('tab')\n",
    "time.sleep(2)\n",
    "\n",
    "#Change to the subject scope and wrting the subject\n",
    "pyautogui.press('tab')\n",
    "pyautogui.write('Value of euro in reais.')\n",
    "\n",
    "#Changing to text scope and typing the value of the euro\n",
    "pyautogui.press('tab')\n",
    "pyautogui.write('Each euro is worth {0:.2f} reais today.'.format(euro_in_reais))\n",
    "\n",
    "#Finding the right place to send the email\n",
    "pyautogui.press('tab')\n",
    "pyautogui.press('tab')\n",
    "pyautogui.press('tab')\n",
    "pyautogui.press('enter')\n",
    "\n",
    "#close the window\n",
    "new_tab.quit()"
   ]
  }
 ],
 "metadata": {
  "kernelspec": {
   "display_name": "Python 3 (ipykernel)",
   "language": "python",
   "name": "python3"
  },
  "language_info": {
   "codemirror_mode": {
    "name": "ipython",
    "version": 3
   },
   "file_extension": ".py",
   "mimetype": "text/x-python",
   "name": "python",
   "nbconvert_exporter": "python",
   "pygments_lexer": "ipython3",
   "version": "3.9.7"
  }
 },
 "nbformat": 4,
 "nbformat_minor": 5
}
